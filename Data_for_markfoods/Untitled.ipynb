{
 "cells": [
  {
   "cell_type": "code",
   "execution_count": 2,
   "metadata": {},
   "outputs": [
    {
     "data": {
      "image/png": "[encoded data removed]",
      "text/plain": [
       "<Figure size 432x288 with 1 Axes>"
      ]
     },
     "metadata": {
      "needs_background": "light"
     },
     "output_type": "display_data"
    },
    {
     "name": "stdout",
     "output_type": "stream",
     "text": [
      " : 1858\n"
     ]
    }
   ],
   "source": [
    "import string\n",
    "from lxml import html\n",
    "import requests\n",
    "# Yelp unique url endings for each restaurant\n",
    "restaurants = ['taco-bamba-falls-church','taco-bamba-vienna']\n",
    "start_urls = ['http://www.yelp.com/biz/%s' % s for s in restaurants]\n",
    "num_reviews = 1500 # Number of reviews you want\n",
    "page_order = range(0, (num_reviews+1), 20)\n",
    "review_dict = {}\n",
    "for ur in start_urls:\n",
    "    for o in page_order:\n",
    "        page = requests.get(ur + (\"?start=%s\" % o))\n",
    "        tree = html.fromstring(page.text)\n",
    "        # This will extract the name of the business\n",
    "        title = tree.xpath('//meta[@itemprop=\"name\"]')[1].get(\"content\")\n",
    "        city = tree.xpath('//span[@itemprop=\"addressLocality\"]/text()')\n",
    "        city = city[0]\n",
    "        # This will create a list of reviews\n",
    "        reviews = tree.xpath('//p[@itemprop=\"description\"]/text()')\n",
    "        \n",
    "        if reviews: # check if there is no review\n",
    "        \n",
    "            mod_reviews = []\n",
    "            for rev in reviews:\n",
    "                mod_reviews.append(str(rev))\n",
    "            rest_city = (title,city)\n",
    "            # This will add the reviews to a dictionary\n",
    "            if rest_city in review_dict:\n",
    "                review_dict[rest_city] += mod_reviews\n",
    "            else:\n",
    "                review_dict[rest_city] = mod_reviews\n",
    "\n",
    "# The following part is to scrape Taco Bamba's menu to get its on menu food for its Falls Church store\n",
    "rest_urls = \"https://www.yelp.com/menu/taco-bamba-falls-church\"\n",
    "menu_page = requests.get(rest_urls)\n",
    "tree = html.fromstring(menu_page.text)\n",
    "menu = tree.xpath('//p[@class=\"menu-item-details-description\"]/text()')\n",
    "menu_str = ', '.join(menu).lower()\n",
    "menu_unique = list(set(menu_str.split(', ')))\n",
    "\n",
    "# The folliwng part is to tokenize and visualize most frequenct talked food in each of its location\n",
    "from nltk import word_tokenize\n",
    "from nltk.probability import FreqDist\n",
    "\n",
    "\n",
    "review_fc = ' '.join(review_dict[('Taco Bamba', 'Falls Church')]).lower()\n",
    "review_fc_str = review_fc.split(\" \")\n",
    "# Only keeps words from review comment that is in menu\n",
    "review_foodword_fc = []\n",
    "for comments_word in review_fc_str: \n",
    "    for food in menu_unique:\n",
    "        if comments_word in food.split(\" \"):\n",
    "            review_foodword_fc.append(comments_word)\n",
    "\n",
    "# remove stopwords\n",
    "from nltk.corpus import stopwords\n",
    "stop_words = set(stopwords.words('english'))\n",
    "stop_words.add('&')\n",
    "filtered_foodword_fc = [w for w in review_foodword_fc if not w in stop_words]\n",
    "fc_freq = FreqDist(filtered_foodword_fc)\n",
    "fc_freq.plot(30)\n",
    "\n",
    "#output word frequency table to generate word cloud\n",
    "for foodword in fc_freq:\n",
    "    print (foodword, \":\", fc_freq[foodword])"
   ]
  },
  {
   "cell_type": "code",
   "execution_count": null,
   "metadata": {},
   "outputs": [],
   "source": []
  }
 ],
 "metadata": {
  "kernelspec": {
   "display_name": "Python 3",
   "language": "python",
   "name": "python3"
  },
  "language_info": {
   "codemirror_mode": {
    "name": "ipython",
    "version": 3
   },
   "file_extension": ".py",
   "mimetype": "text/x-python",
   "name": "python",
   "nbconvert_exporter": "python",
   "pygments_lexer": "ipython3",
   "version": "3.6.8"
  }
 },
 "nbformat": 4,
 "nbformat_minor": 2
}
