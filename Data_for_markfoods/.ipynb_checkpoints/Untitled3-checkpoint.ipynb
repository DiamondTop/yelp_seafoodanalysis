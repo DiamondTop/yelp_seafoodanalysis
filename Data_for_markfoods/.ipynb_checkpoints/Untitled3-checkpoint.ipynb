{
 "cells": [
  {
   "cell_type": "code",
   "execution_count": 10,
   "metadata": {},
   "outputs": [
    {
     "name": "stdout",
     "output_type": "stream",
     "text": [
      "[<p itemprop=\"description\">I've finally found my Indian restaurant in Tampa! Ordered takeout on Uber Eats and did not disappoint! I moved here from Cali (we have amazing Indian food for some reason) and have been so let down by ALL (yes, I've tried a ton) Indian restaurants in the area. Great portions, authentic taste, fully happy customer!  Thank you for bringing a small sense of joy in an uncertain time through food!<p>\n",
      "</p></p>, <p itemprop=\"description\">I am a HUGE fan of the new owner and chef! Hated the Taj before and refused to go. But the \"new\" Taj is amazing. Because they have chicken pakora on the menu already makes 1000% better than the old place and a bunch of Indians for that reason alone lol!! They also make me a off menu meal, which is actually the best version of it I have tasted since I came to America a million years ago from Scotland. I go at least twice a month and haven't hit a bad meal yet.\n",
      "\n",
      "..... chicken bhuna btw\n",
      "..... it is delicious<p>\n",
      "</p></p>, <p itemprop=\"description\">Honestly, the moment we walked in, no one greeted us. They looked at us and kept doing their own thing. We had to say \"hello???\" Then they came over and sat us but my question is, why not sit us when we walked in or at least say welcome, sit where you like. That already left a bad taste in my mouth, but I still wanted to give them a chance. \n",
      "We sat down, it was a party of four, he only served 2 glasses of water and did not bother to introduce himself or bring the other 2 glasses. Like come on? You see 4 of us so I had to flag him down and ask for the other 2 glasses and  he was so dry about it. \n",
      "Then we ordered and the food was so dry. \n",
      "\n",
      "Honestly, I was very disappointed. I love Indian cuisine and never in my life have I been treated so poorly. we should have left. The moment you walk into an establishment and the energy is horrible you can guarantee that same energy is going into your food. It was so disappointing  and I will never return. \n",
      "\n",
      "If you pass by, just keep walking.<p>\n",
      "</p></p>, <p itemprop=\"description\">Downloaded yelp again just to write this review. I've never had a worse experience than I did at Taj. Ordered through uber eats at 5:20. Waited 2 hours and finally called the restaurant at 7:40 to check on my order. The guy was SO RUDE and literally just hung up on me. I called back, a girl answered and took my name and number down and said she would call me back... never did. Food finally came, it was ICE COLD. Soooo so disappointed and completely shocked by the lack of customer care. Will be telling all my friends to make the drive to curry leaves instead.<p>\n",
      "</p></p>, <p itemprop=\"description\">Stopped in for the lunch buffet, a little past peak \"lunch hour\" , about 1:15 pm. We helped ourselves to the buffet and the food was tasty. Where I have a problem is I hate  places that offer lunch buffets and then take forever to replenish popular items. In this case it was salad, naan, and white rice. The butter chicken is tasty but I had to search around in the sauce  to find a few chicken chunks. By the time the naan was replenished , at least 30 minutes, pretty much all 20 or so people in the restaurant were waiting for it and we were ready to leave, my wife had to get back to work.\n",
      " Food could be a bit more flavorful/spicier , and if you offer buffet, replenish popular items frequently.<p>\n",
      "</p></p>, <p itemprop=\"description\">Several years ago my wife &amp; I ate at Taj &amp; it was excellent.  We found ourselves near USF today &amp; were excited to return.  I'm not sure what happened, but we experienced a marked decline in flavor &amp; quality.  There were many great-sounding dishes to try.  Most of the trays however were full of sauce, but were lacking the chicken or other solid items normally found in the dishes.  Some of the flavors were good, but some were dull &amp; even salty.  I've never had Indian food before where I could ever discern salt.  Usually I discern brilliantly flavored spices &amp; herbs.  The lunch buffet was $12 per person.  Indian food can easily be worth that, but this meal fell short.<p>\n",
      "</p></p>, <p itemprop=\"description\">This is the best Indian food I've had in the United States- which I understand is a HUGE statement. Flavors are incredible. Fresh. Decor is lavish and beautiful. The portions are on the smaller size, but the quality and taste make up for it. We ordered hot butter chicken and hot lamb masala. For an appetizer we had the Taj specialty and it was great. They also have some chips and chutney complimentary. It was excellent. The service was very polite and kind. I have heard great things about their lunch buffet and really want to try that out to try different dishes. We will definitely be back. Note: apparently the restaurant is under new ownership as of recent. I would definitely give this a try regardless of some of the bad reviews I am seeing from 2017. There are plenty of 5 star reviews to show how good this food is.<p>\n",
      "</p></p>, <p itemprop=\"description\">Excellent lunch buffet. I'm a vegetarian so happy to have Chana masala, sag paneer, eggplant and korma. Yum! Others were enjoying a chicken dish. Nice salad options and sauces. I will be back.<p>\n",
      "</p></p>, <p itemprop=\"description\">Not 4 stars, rather 3.5. The butter chicken was exceptional -- so creamy. (See pic.) The rice that accompanied it was good, but on the dry side. The Chana Marsala (a Chic pea veggie entree) was very good (see pic) as was the Naan. But the BEST best best food we tried was the Vegetable Samosa; the pastry was flaky perfection! The Chic pea/potato combination inside was delicious &amp; filling. Not sure what spice the chef includes that other India restaurants omit, but these were truly excellent Samosas. (We requested a double order-- see pic.)\n",
      "\n",
      "Service was very good; two men waited on us. There were just three other occupied tables while we were there. The interior of this restaurant is quite nice (see pics); however, all the windows overlooking the busy parking lot were quite dirty...way too dirty, although I'm hopeful the dirt was limited to the outside.\n",
      "\n",
      "Prices aren't cheap as another patron stated; perhaps she ordered the buffet. And portion sizes were not large, as another reviewer indicated. (There is a quality Indian restaurant across Fowler &amp; a few blocks west that offers lower prices &amp; larger serving sizes.) However, here the Butter Chicken &amp; Samosas are definitely better. \n",
      "\n",
      "If you are not fluent in Hindi or another dialect, you may have trouble getting menu help. There are no menu pics. And although both servers were very good &amp; tried to answer our questions, their thick accents prevented us from understanding. (Had I known there would be so few French restaurants across the state, I perhaps would have selected a more useful language to study:)\n",
      "\n",
      "Definitely a restaurant that is worth trying. We'll return to try other entrees as well as a reorder of the Veggie Samosas...&amp; just maybe we'll stop in for the lunch buffet.<p>\n",
      "</p></p>, <p itemprop=\"description\">I have only ever been here during lunch for their buffet and it's really good. Authentic Indian cuisine with a good amount of options for entrees and sides in the buffet area. For the price, the quality and quantity are great.<p>\n",
      "</p></p>, <p itemprop=\"description\">We really wanted to like this place but it fell short. \n",
      "At the time we were one of a few tables and it took 45 mins to an hour for our food to come out. Food wasn't impressive after that long of a wait.<p>\n",
      "</p></p>, <p itemprop=\"description\">My first Indian food experience and I loved it! Super good food and great prices. The owners were so friendly as well. Went for their lunch buffet which had a lot of options! Highly recommend for some good Indian food!<p>\n",
      "</p></p>, <p itemprop=\"description\">Fantastic food.  Chicken tikka masala and butter chicken sauce are super creamy and delicious.  My husband and I have different preferences when it comes to spice level, so we ordered 1 mild and 1 hot/spicy dish.  On a scale of 1 to 10, the mild spice-level came in at a 1 (no heat) and the \"hot/spicy\" came in at a strong 8 (perfect level of heat for me).  Raita, roti, naan, papadum are well made and compliment all dishes.<p>\n",
      "</p></p>, <p itemprop=\"description\">This establishment is the best Indian restaurant in all of the Tampa Bay Area. The food never disappoints. My family and I have been going to this restaurant for as long as I can remember. The couple that owns this restaurants always takes care of us and are so sweet. The food does not even compare to any other Indian place. My boyfriend from Detroit has to come to this restaurant every time he is in Tampa. I drive 45 minutes to eat here. Seriously, you are missing out if you haven't had their food. Everything is always hot and delicious. Each item is made to order. Yes their service is a little slow but it is absolutely worth it!<p>\n",
      "</p></p>, <p itemprop=\"description\">Excellent food, service, and ambiance. Have tried many dishes on the menu and not one item has disappointed! Best indian food in the Tampa Bay area. Plenty of tasty options for vegetarians as well.\n",
      "Always impressed with the great service - my family and I enjoy going here at least every few weeks.<p>\n",
      "</p></p>, <p itemprop=\"description\">Overall an incredible experience. The food was outstanding, everything seasoned to perfection. If you're a foodie, you understand what I mean when I say the food tasted as if someone's mother was in the back making all the dishes. Totally authentic, culture in every bite accompanied by East Asian music - you're transported  to India instantly. Never pass on this place, we will most definitely be back again. Bravo!<p>\n",
      "</p></p>, <p itemprop=\"description\">My favorite spot for Indian. I have tried many others but they dont compare. It has been around for awhile and I can see why. Butter chicken was nice and creamy.<p>\n",
      "</p></p>, <p itemprop=\"description\">The food was really good, the portions were small for the price. The don't serve ice with their water and it was extremely hot in the restaurant. I would go here again if I was in the area for Vegetarian options.<p>\n",
      "</p></p>, <p itemprop=\"description\">The butter chicken is delicious and not heavy on the stomach. It taste even better with the garlic Naan.<p>\n",
      "</p></p>, <p itemprop=\"description\">Been going there since it first opened in 1991. Back in Tampa on this side id town and decided to stop in..ordered veggie appetizers and somosa chaat.  It was NOT good at all... The pictures speaks for themselves.<p>\n",
      "</p></p>]\n"
     ]
    }
   ],
   "source": [
    "import requests, bs4\n",
    "import tkinter as tk\n",
    "from tkinter import *\n",
    "import pymysql\n",
    "import pymysql.cursors\n",
    "\n",
    "res = requests.get(\"https://www.yelp.com/biz/taj-indian-cuisine-tampa\")\n",
    "res.raise_for_status()\n",
    "recipeSoup = bs4.BeautifulSoup(res.text, \"html.parser\")\n",
    "type(recipeSoup)\n",
    "instructions = recipeSoup.find_all('p', itemprop='description')\n",
    "try:\n",
    "    method = str.replace(instructions.get_text(strip=True),\". \",\".\")\n",
    "    method = str.replace(method, \". \", \".\")\n",
    "    method = (str.replace(method, \".\",\".\\n\"))\n",
    "except AttributeError:\n",
    "    print(instructions)"
   ]
  },
  {
   "cell_type": "code",
   "execution_count": 3,
   "metadata": {},
   "outputs": [
    {
     "name": "stdout",
     "output_type": "stream",
     "text": [
      "Collecting pymysql\n",
      "  Downloading https://files.pythonhosted.org/packages/ed/39/15045ae46f2a123019aa968dfcba0396c161c20f855f11dea6796bcaae95/PyMySQL-0.9.3-py2.py3-none-any.whl (47kB)\n",
      "Installing collected packages: pymysql\n",
      "Successfully installed pymysql-0.9.3\n"
     ]
    }
   ],
   "source": [
    "#!pip install pymysql"
   ]
  },
  {
   "cell_type": "code",
   "execution_count": null,
   "metadata": {},
   "outputs": [],
   "source": []
  }
 ],
 "metadata": {
  "kernelspec": {
   "display_name": "Python 3",
   "language": "python",
   "name": "python3"
  },
  "language_info": {
   "codemirror_mode": {
    "name": "ipython",
    "version": 3
   },
   "file_extension": ".py",
   "mimetype": "text/x-python",
   "name": "python",
   "nbconvert_exporter": "python",
   "pygments_lexer": "ipython3",
   "version": "3.6.8"
  }
 },
 "nbformat": 4,
 "nbformat_minor": 2
}
